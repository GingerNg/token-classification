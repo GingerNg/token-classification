{
 "cells": [
  {
   "cell_type": "code",
   "execution_count": 1,
   "metadata": {},
   "outputs": [],
   "source": [
    "%load_ext autoreload\n",
    "%autoreload 2\n",
    "import os\n",
    "os.chdir(\"../..\")"
   ]
  },
  {
   "cell_type": "code",
   "execution_count": 2,
   "metadata": {},
   "outputs": [],
   "source": [
    "import pickle\n",
    "from models.bilstm_crf_model_keras import BilstmCRFKerasNerModel\n",
    "from models.text_encode import SelfVocabEncoder\n",
    "from models.data_parse import ConllParser\n",
    "import random"
   ]
  },
  {
   "cell_type": "code",
   "execution_count": 3,
   "metadata": {},
   "outputs": [],
   "source": [
    "parser = ConllParser()\n",
    "train_parsed_data = parser.parse_data('data/CCKS2021中文NLP地址要素解析/train_human.conll')\n",
    "test_parsed_data = parser.parse_data('data/CCKS2021中文NLP地址要素解析/dev.conll')\n",
    "\n",
    "random.shuffle(train_parsed_data)\n",
    "cutoff = int(len(train_parsed_data) * 0.8)\n",
    "val_parsed_data = train_parsed_data[cutoff:]\n",
    "train_parsed_data = train_parsed_data[0:cutoff]"
   ]
  },
  {
   "cell_type": "code",
   "execution_count": 4,
   "metadata": {},
   "outputs": [
    {
     "name": "stdout",
     "output_type": "stream",
     "text": [
      "Model: \"model\"\n",
      "_________________________________________________________________\n",
      "Layer (type)                 Output Shape              Param #   \n",
      "=================================================================\n",
      "input_1 (InputLayer)         [(None, None)]            0         \n",
      "_________________________________________________________________\n",
      "embedding (Embedding)        (None, None, 100)         212700    \n",
      "_________________________________________________________________\n",
      "bidirectional (Bidirectional (None, None, 100)         60400     \n",
      "_________________________________________________________________\n",
      "bidirectional_1 (Bidirection (None, None, 100)         60400     \n",
      "_________________________________________________________________\n",
      "crf_layer (MyCRF)            (None, None)              9120      \n",
      "=================================================================\n",
      "Total params: 342,620\n",
      "Trainable params: 342,620\n",
      "Non-trainable params: 0\n",
      "_________________________________________________________________\n"
     ]
    },
    {
     "name": "stderr",
     "output_type": "stream",
     "text": [
      "/Users/derbysofti81/miniforge3/envs/transformer_no_pandas/lib/python3.9/site-packages/tensorflow/python/autograph/impl/api.py:376: UserWarning: CRF decoding models have serialization issues in TF >=2.5 . Please see isse #2476\n",
      "  return py_builtins.overload_of(f)(*args)\n"
     ]
    }
   ],
   "source": [
    "model_pth = \"data/CCKS2021中文NLP地址要素解析/saved_models/bilstm_crf_1.h5\"\n",
    "with open('./data/CCKS2021中文NLP地址要素解析/tags.pkl', 'rb') as f:\n",
    "    chunk_tags = pickle.load(f)\n",
    "encoder = SelfVocabEncoder()\n",
    "encoder.construct_vocab(train_parsed_data)\n",
    "ner = BilstmCRFKerasNerModel(chunk_tags, vocab_size=encoder.vocab_size, model_path=model_pth)\n",
    "ner.encoder = encoder\n",
    "# processor = ConllProcessor()\n",
    "# ner.processor = processor"
   ]
  },
  {
   "cell_type": "code",
   "execution_count": 5,
   "metadata": {},
   "outputs": [
    {
     "name": "stdout",
     "output_type": "stream",
     "text": [
      "y_chunk shape: (14569, 36)\n",
      "y_chunk shape: (3643, 36)\n",
      "y_chunk shape: (1970, 36)\n"
     ]
    }
   ],
   "source": [
    "train_data = ner.preprocess(train_parsed_data)\n",
    "val_data = ner.preprocess(val_parsed_data)\n",
    "test_data = ner.preprocess(test_parsed_data)"
   ]
  },
  {
   "cell_type": "code",
   "execution_count": 6,
   "metadata": {},
   "outputs": [
    {
     "name": "stdout",
     "output_type": "stream",
     "text": [
      "Epoch 1/10\n"
     ]
    },
    {
     "name": "stderr",
     "output_type": "stream",
     "text": [
      "/Users/derbysofti81/miniforge3/envs/transformer_no_pandas/lib/python3.9/site-packages/tensorflow_addons/text/crf.py:545: UserWarning: CRF decoding models have serialization issues in TF >=2.5 . Please see isse #2476\n",
      "  warnings.warn(\n"
     ]
    },
    {
     "name": "stdout",
     "output_type": "stream",
     "text": [
      "456/456 [==============================] - 207s 454ms/step - loss: 15.7554 - crf_accuracy: 0.5685 - val_loss: 5.2234 - val_crf_accuracy: 0.8435\n",
      "Epoch 2/10\n",
      "456/456 [==============================] - 211s 462ms/step - loss: 3.6783 - crf_accuracy: 0.8825 - val_loss: 2.4720 - val_crf_accuracy: 0.9088\n",
      "Epoch 3/10\n",
      "456/456 [==============================] - 216s 473ms/step - loss: 2.1646 - crf_accuracy: 0.9171 - val_loss: 1.7751 - val_crf_accuracy: 0.9228\n",
      "Epoch 4/10\n",
      "456/456 [==============================] - 2878s 6s/step - loss: 1.5795 - crf_accuracy: 0.9313 - val_loss: 1.4315 - val_crf_accuracy: 0.9311\n",
      "Epoch 5/10\n",
      "456/456 [==============================] - 203s 444ms/step - loss: 1.2466 - crf_accuracy: 0.9393 - val_loss: 1.2162 - val_crf_accuracy: 0.9366\n",
      "Epoch 6/10\n",
      "456/456 [==============================] - 203s 444ms/step - loss: 1.0233 - crf_accuracy: 0.9455 - val_loss: 1.0727 - val_crf_accuracy: 0.9401\n",
      "Epoch 7/10\n",
      "456/456 [==============================] - 203s 445ms/step - loss: 0.8647 - crf_accuracy: 0.9503 - val_loss: 0.9484 - val_crf_accuracy: 0.9441\n",
      "Epoch 8/10\n",
      "456/456 [==============================] - 199s 436ms/step - loss: 0.7525 - crf_accuracy: 0.9546 - val_loss: 0.8701 - val_crf_accuracy: 0.9467\n",
      "Epoch 9/10\n",
      "456/456 [==============================] - 200s 439ms/step - loss: 0.6556 - crf_accuracy: 0.9579 - val_loss: 0.8147 - val_crf_accuracy: 0.9496\n",
      "Epoch 10/10\n",
      "456/456 [==============================] - 199s 436ms/step - loss: 0.5877 - crf_accuracy: 0.9594 - val_loss: 0.7678 - val_crf_accuracy: 0.9494\n"
     ]
    }
   ],
   "source": [
    "ner.fit(train_data=train_data, val_data=val_data)"
   ]
  },
  {
   "cell_type": "code",
   "execution_count": null,
   "metadata": {},
   "outputs": [],
   "source": []
  }
 ],
 "metadata": {
  "interpreter": {
   "hash": "7cfa61b4edfe3f08576881158a1cc2f403800582663d3c8e7fad22a399fe9ba0"
  },
  "kernelspec": {
   "display_name": "Python 3.9.4 64-bit ('transformer_no_pandas': conda)",
   "language": "python",
   "name": "python3"
  },
  "language_info": {
   "codemirror_mode": {
    "name": "ipython",
    "version": 3
   },
   "file_extension": ".py",
   "mimetype": "text/x-python",
   "name": "python",
   "nbconvert_exporter": "python",
   "pygments_lexer": "ipython3",
   "version": "3.9.4"
  },
  "orig_nbformat": 4
 },
 "nbformat": 4,
 "nbformat_minor": 2
}
