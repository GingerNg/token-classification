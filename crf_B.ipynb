{
 "cells": [
  {
   "cell_type": "code",
   "execution_count": 25,
   "metadata": {},
   "outputs": [],
   "source": [
    "import tensorflow_addons as tfa\n",
    "import numpy as np"
   ]
  },
  {
   "cell_type": "code",
   "execution_count": 27,
   "metadata": {},
   "outputs": [
    {
     "name": "stderr",
     "output_type": "stream",
     "text": [
      "/Users/derbysofti81/miniforge3/envs/transformer_no_pandas/lib/python3.9/site-packages/tensorflow_addons/text/crf.py:545: UserWarning: CRF decoding models have serialization issues in TF >=2.5 . Please see isse #2476\n",
      "  warnings.warn(\n"
     ]
    },
    {
     "data": {
      "text/plain": [
       "((2, 4), (2, 4, 8))"
      ]
     },
     "execution_count": 27,
     "metadata": {},
     "output_type": "execute_result"
    }
   ],
   "source": [
    "layer = tfa.layers.CRF(4)\n",
    "inputs = np.random.rand(2, 4, 8).astype(np.float32)\n",
    "y_true = np.array([[1,2,3,1],[1,2,3,1]])\n",
    "type(layer(inputs))\n",
    "y_true.shape, inputs.shape"
   ]
  },
  {
   "cell_type": "code",
   "execution_count": 40,
   "metadata": {},
   "outputs": [
    {
     "name": "stdout",
     "output_type": "stream",
     "text": [
      "(2, 4)\n",
      "(2, 4, 4)\n",
      "(2,)\n",
      "(4, 4)\n"
     ]
    },
    {
     "name": "stderr",
     "output_type": "stream",
     "text": [
      "/Users/derbysofti81/miniforge3/envs/transformer_no_pandas/lib/python3.9/site-packages/tensorflow_addons/text/crf.py:545: UserWarning: CRF decoding models have serialization issues in TF >=2.5 . Please see isse #2476\n",
      "  warnings.warn(\n"
     ]
    }
   ],
   "source": [
    "layer = tfa.layers.CRF(4)\n",
    "inputs = np.random.rand(2, 4, 8).astype(np.float32)  # batch seq_len fea_num\n",
    "decoded_sequence, potentials, sequence_length, chain_kernel = layer(inputs)\n",
    "print(decoded_sequence.shape)\n",
    "\n",
    "print(potentials.shape)\n",
    "\n",
    "print(sequence_length.shape)\n",
    "\n",
    "print(chain_kernel.shape)\n"
   ]
  },
  {
   "cell_type": "code",
   "execution_count": 29,
   "metadata": {},
   "outputs": [],
   "source": [
    "# potentials"
   ]
  },
  {
   "cell_type": "code",
   "execution_count": 30,
   "metadata": {},
   "outputs": [],
   "source": [
    "# import tensorflow as tf\n",
    "# tf.keras.backend.cast(potentials, tf.float32).shape"
   ]
  },
  {
   "cell_type": "code",
   "execution_count": 31,
   "metadata": {},
   "outputs": [
    {
     "data": {
      "text/plain": [
       "<tf.Tensor: shape=(2,), dtype=float32, numpy=array([-9.048364, -9.559025], dtype=float32)>"
      ]
     },
     "execution_count": 31,
     "metadata": {},
     "output_type": "execute_result"
    }
   ],
   "source": [
    "from tensorflow_addons.text.crf import crf_decode, crf_log_likelihood\n",
    "crf_loss, _ = crf_log_likelihood(potentials, y_true, sequence_length, chain_kernel)\n",
    "crf_loss"
   ]
  },
  {
   "cell_type": "markdown",
   "metadata": {},
   "source": []
  },
  {
   "cell_type": "code",
   "execution_count": 38,
   "metadata": {},
   "outputs": [
    {
     "name": "stderr",
     "output_type": "stream",
     "text": [
      "/Users/derbysofti81/miniforge3/envs/transformer_no_pandas/lib/python3.9/site-packages/tensorflow_addons/text/crf.py:545: UserWarning: CRF decoding models have serialization issues in TF >=2.5 . Please see isse #2476\n",
      "  warnings.warn(\n"
     ]
    },
    {
     "data": {
      "text/plain": [
       "(TensorShape([2, 4]), TensorShape([2, 4, 4]))"
      ]
     },
     "execution_count": 38,
     "metadata": {},
     "output_type": "execute_result"
    }
   ],
   "source": [
    "# from models.CRF import CRF\n",
    "from tensorflow_addons.layers import CRF\n",
    "layer = CRF(4)\n",
    "inputs = np.random.rand(2, 4, 8).astype(np.float32)\n",
    "layer(inputs)[0].shape, layer(inputs)[1].shape"
   ]
  },
  {
   "cell_type": "code",
   "execution_count": null,
   "metadata": {},
   "outputs": [],
   "source": []
  }
 ],
 "metadata": {
  "interpreter": {
   "hash": "0a1d853e67b4051c0adf748854e84a367d4e001fd323d36a49b81814990b7326"
  },
  "kernelspec": {
   "display_name": "Python 3.9.4 64-bit ('base': conda)",
   "language": "python",
   "name": "python3"
  },
  "language_info": {
   "codemirror_mode": {
    "name": "ipython",
    "version": 3
   },
   "file_extension": ".py",
   "mimetype": "text/x-python",
   "name": "python",
   "nbconvert_exporter": "python",
   "pygments_lexer": "ipython3",
   "version": "3.9.4"
  },
  "orig_nbformat": 4
 },
 "nbformat": 4,
 "nbformat_minor": 2
}
